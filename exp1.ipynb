{
 "cells": [
  {
   "cell_type": "code",
   "execution_count": 1,
   "metadata": {},
   "outputs": [
    {
     "name": "stderr",
     "output_type": "stream",
     "text": [
      "C:\\Users\\panka\\AppData\\Local\\Temp\\ipykernel_17784\\2162656668.py:1: DeprecationWarning: \n",
      "Pyarrow will become a required dependency of pandas in the next major release of pandas (pandas 3.0),\n",
      "(to allow more performant data types, such as the Arrow string type, and better interoperability with other libraries)\n",
      "but was not found to be installed on your system.\n",
      "If this would cause problems for you,\n",
      "please provide us feedback at https://github.com/pandas-dev/pandas/issues/54466\n",
      "        \n",
      "  import pandas as pd\n"
     ]
    }
   ],
   "source": [
    "import pandas as pd\n",
    "import numpy as np"
   ]
  },
  {
   "cell_type": "code",
   "execution_count": 2,
   "metadata": {},
   "outputs": [],
   "source": [
    "df = pd.read_csv('OnlineRetailDataset.csv', encoding='latin1')\n"
   ]
  },
  {
   "cell_type": "code",
   "execution_count": 3,
   "metadata": {},
   "outputs": [
    {
     "name": "stdout",
     "output_type": "stream",
     "text": [
      "(10050, 8)\n"
     ]
    }
   ],
   "source": [
    "print(df.shape)"
   ]
  },
  {
   "cell_type": "code",
   "execution_count": 4,
   "metadata": {},
   "outputs": [
    {
     "name": "stdout",
     "output_type": "stream",
     "text": [
      "['InvoiceNo', 'StockCode', 'Description', 'Quantity', 'InvoiceDate', 'UnitPrice', 'CustomerID', 'Country']\n"
     ]
    }
   ],
   "source": [
    "columns = list(df.columns)\n",
    "print(columns)"
   ]
  },
  {
   "cell_type": "code",
   "execution_count": 5,
   "metadata": {},
   "outputs": [
    {
     "name": "stdout",
     "output_type": "stream",
     "text": [
      "   InvoiceNo  StockCode Description  Quantity       InvoiceDate  UnitPrice  \\\n",
      "0     127358    74339.0  Everything         2  20/03/2024 16:22       2.49   \n",
      "1     281781    70099.0      Parent        16  01/05/2023 01:42      21.78   \n",
      "2     851419    82979.0     Forward        15  27/03/2023 12:52      38.77   \n",
      "3     641983    20488.0        Take         8  30/12/2023 06:40       0.78   \n",
      "4     627297    45993.0      Strong        19  05/04/2023 22:57      15.13   \n",
      "\n",
      "   CustomerID                      Country  \n",
      "0       55661     Northern Mariana Islands  \n",
      "1       43851  Falkland Islands (Malvinas)  \n",
      "2        7546                        Spain  \n",
      "3       31609                   Luxembourg  \n",
      "4       67042                New Caledonia  \n"
     ]
    }
   ],
   "source": [
    "print(df.head())"
   ]
  },
  {
   "cell_type": "code",
   "execution_count": 6,
   "metadata": {},
   "outputs": [
    {
     "name": "stdout",
     "output_type": "stream",
     "text": [
      "           InvoiceNo     StockCode      Quantity     UnitPrice    CustomerID\n",
      "count   10050.000000   9950.000000  10050.000000  10050.000000  10050.000000\n",
      "mean   501481.156020  54868.746131     10.547264     25.036905  49805.696119\n",
      "std    290412.191868  26102.429587      5.803496     14.266070  29019.172089\n",
      "min       213.000000  10000.000000      1.000000      0.500000      4.000000\n",
      "25%    245891.750000  32139.250000      6.000000     12.810000  24750.750000\n",
      "50%    502431.500000  54863.000000     11.000000     24.930000  49730.000000\n",
      "75%    756365.250000  77336.750000     16.000000     37.350000  75124.750000\n",
      "max    999967.000000  99990.000000     20.000000     49.990000  99998.000000\n"
     ]
    }
   ],
   "source": [
    "print(df.describe())"
   ]
  },
  {
   "cell_type": "code",
   "execution_count": 7,
   "metadata": {},
   "outputs": [
    {
     "name": "stdout",
     "output_type": "stream",
     "text": [
      "InvoiceNo        0\n",
      "StockCode      100\n",
      "Description     14\n",
      "Quantity         0\n",
      "InvoiceDate      0\n",
      "UnitPrice        0\n",
      "CustomerID       0\n",
      "Country          0\n",
      "dtype: int64\n",
      "Missing values in distribution:\n",
      "InvoiceNo      0.000000\n",
      "StockCode      0.009950\n",
      "Description    0.001393\n",
      "Quantity       0.000000\n",
      "InvoiceDate    0.000000\n",
      "UnitPrice      0.000000\n",
      "CustomerID     0.000000\n",
      "Country        0.000000\n",
      "dtype: float64\n"
     ]
    }
   ],
   "source": [
    "new_df = df\n",
    "print(new_df.isnull().sum())\n",
    "print(\"Missing values in distribution:\")\n",
    "print(new_df.isnull().mean())"
   ]
  },
  {
   "cell_type": "code",
   "execution_count": 8,
   "metadata": {},
   "outputs": [
    {
     "name": "stdout",
     "output_type": "stream",
     "text": [
      "True\n",
      "0        False\n",
      "1        False\n",
      "2        False\n",
      "3        False\n",
      "4        False\n",
      "         ...  \n",
      "10045    False\n",
      "10046    False\n",
      "10047    False\n",
      "10048    False\n",
      "10049    False\n",
      "Length: 10050, dtype: bool\n",
      "(10050, 8)\n"
     ]
    }
   ],
   "source": [
    "print(new_df.duplicated().any()) \n",
    "print(new_df.duplicated())\n",
    "print(new_df.shape) "
   ]
  },
  {
   "cell_type": "code",
   "execution_count": 9,
   "metadata": {},
   "outputs": [
    {
     "name": "stdout",
     "output_type": "stream",
     "text": [
      "Column datatypes: \n",
      "InvoiceNo        int64\n",
      "StockCode      float64\n",
      "Description     object\n",
      "Quantity         int64\n",
      "InvoiceDate     object\n",
      "UnitPrice      float64\n",
      "CustomerID       int64\n",
      "Country         object\n",
      "dtype: object\n"
     ]
    }
   ],
   "source": [
    "print(\"Column datatypes: \")\n",
    "print(new_df.dtypes)"
   ]
  },
  {
   "cell_type": "code",
   "execution_count": 10,
   "metadata": {},
   "outputs": [
    {
     "name": "stdout",
     "output_type": "stream",
     "text": [
      "   InvoiceNo  StockCode Description  Quantity       InvoiceDate  UnitPrice  \\\n",
      "0     127358    74339.0  Everything         2  20/03/2024 16:22       2.49   \n",
      "1     281781    70099.0      Parent        16  01/05/2023 01:42      21.78   \n",
      "2     851419    82979.0     Forward        15  27/03/2023 12:52      38.77   \n",
      "3     641983    20488.0        Take         8  30/12/2023 06:40       0.78   \n",
      "4     627297    45993.0      Strong        19  05/04/2023 22:57      15.13   \n",
      "\n",
      "   CustomerID                      Country  \n",
      "0       55661     Northern Mariana Islands  \n",
      "1       43851  Falkland Islands (Malvinas)  \n",
      "2        7546                        Spain  \n",
      "3       31609                   Luxembourg  \n",
      "4       67042                New Caledonia  \n",
      "(10050, 8)\n"
     ]
    }
   ],
   "source": [
    "new_df[\"Country\"] = new_df[\"Country\"].replace({\"United Kingdom\":\"UK\", \"France\":\"FR\"}) \n",
    "print(new_df.head())\n",
    "print(new_df.shape) "
   ]
  },
  {
   "cell_type": "code",
   "execution_count": 11,
   "metadata": {},
   "outputs": [
    {
     "name": "stdout",
     "output_type": "stream",
     "text": [
      "[55661 43851  7546 ... 18950  2009 22902]\n"
     ]
    }
   ],
   "source": [
    "print(new_df[\"CustomerID\"].unique()) "
   ]
  },
  {
   "cell_type": "code",
   "execution_count": 12,
   "metadata": {},
   "outputs": [
    {
     "name": "stdout",
     "output_type": "stream",
     "text": [
      "   InvoiceNo  StockCode Description  Quantity       InvoiceDate  UnitPrice  \\\n",
      "0     127358    74339.0  Everything         2  20/03/2024 16:22       2.49   \n",
      "1     281781    70099.0      Parent        16  01/05/2023 01:42      21.78   \n",
      "2     851419    82979.0     Forward        15  27/03/2023 12:52      38.77   \n",
      "3     641983    20488.0        Take         8  30/12/2023 06:40       0.78   \n",
      "4     627297    45993.0      Strong        19  05/04/2023 22:57      15.13   \n",
      "\n",
      "   CustomerID                      Country  \n",
      "0       55661     Northern Mariana Islands  \n",
      "1       43851  Falkland Islands (Malvinas)  \n",
      "2        7546                        Spain  \n",
      "3       31609                   Luxembourg  \n",
      "4       67042                New Caledonia  \n"
     ]
    }
   ],
   "source": [
    "new_df['Description'] = new_df['Description'].replace({'WHITE HANGING HEART': '000',\n",
    "                                                       'HAND WARMER UNION JACK': '111',\n",
    "                                                       'BOX OF VINTAGE 787': '2',\n",
    "                                                       'ALARM CLOCK 868': '3'})\n",
    "\n",
    "print(new_df.head())"
   ]
  },
  {
   "cell_type": "code",
   "execution_count": 13,
   "metadata": {},
   "outputs": [
    {
     "name": "stdout",
     "output_type": "stream",
     "text": [
      "(10050, 8)\n",
      "   InvoiceNo  StockCode Description  Quantity       InvoiceDate  UnitPrice  \\\n",
      "0     127358    74339.0  Everything         2  20/03/2024 16:22       2.49   \n",
      "1     281781    70099.0      Parent        16  01/05/2023 01:42      21.78   \n",
      "2     851419    82979.0     Forward        15  27/03/2023 12:52      38.77   \n",
      "3     641983    20488.0        Take         8  30/12/2023 06:40       0.78   \n",
      "4     627297    45993.0      Strong        19  05/04/2023 22:57      15.13   \n",
      "\n",
      "   CustomerID                      Country  \n",
      "0       55661     Northern Mariana Islands  \n",
      "1       43851  Falkland Islands (Malvinas)  \n",
      "2        7546                        Spain  \n",
      "3       31609                   Luxembourg  \n",
      "4       67042                New Caledonia  \n"
     ]
    }
   ],
   "source": [
    "print(new_df.shape) \n",
    "print(new_df.head())"
   ]
  }
 ],
 "metadata": {
  "kernelspec": {
   "display_name": "Python 3",
   "language": "python",
   "name": "python3"
  },
  "language_info": {
   "codemirror_mode": {
    "name": "ipython",
    "version": 3
   },
   "file_extension": ".py",
   "mimetype": "text/x-python",
   "name": "python",
   "nbconvert_exporter": "python",
   "pygments_lexer": "ipython3",
   "version": "3.12.1"
  }
 },
 "nbformat": 4,
 "nbformat_minor": 2
}

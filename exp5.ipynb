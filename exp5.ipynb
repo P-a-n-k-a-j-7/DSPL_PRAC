{
 "cells": [
  {
   "cell_type": "code",
   "execution_count": 1,
   "metadata": {},
   "outputs": [],
   "source": [
    "#import pandas\n",
    "import pandas as pd\n",
    "#import numpy\n",
    "import numpy as np\n",
    "#import matplotlib\n",
    "import matplotlib.pyplot as plt\n",
    "#import seaborn\n",
    "import seaborn as sns"
   ]
  },
  {
   "cell_type": "code",
   "execution_count": 2,
   "metadata": {},
   "outputs": [
    {
     "data": {
      "text/html": [
       "<div>\n",
       "<style scoped>\n",
       "    .dataframe tbody tr th:only-of-type {\n",
       "        vertical-align: middle;\n",
       "    }\n",
       "\n",
       "    .dataframe tbody tr th {\n",
       "        vertical-align: top;\n",
       "    }\n",
       "\n",
       "    .dataframe thead th {\n",
       "        text-align: right;\n",
       "    }\n",
       "</style>\n",
       "<table border=\"1\" class=\"dataframe\">\n",
       "  <thead>\n",
       "    <tr style=\"text-align: right;\">\n",
       "      <th></th>\n",
       "      <th>InvoiceNo</th>\n",
       "      <th>StockCode</th>\n",
       "      <th>Description</th>\n",
       "      <th>Quantity</th>\n",
       "      <th>InvoiceDate</th>\n",
       "      <th>UnitPrice</th>\n",
       "      <th>CustomerID</th>\n",
       "      <th>Country</th>\n",
       "      <th>IsPromotion</th>\n",
       "      <th>Sex</th>\n",
       "      <th>Region</th>\n",
       "    </tr>\n",
       "  </thead>\n",
       "  <tbody>\n",
       "    <tr>\n",
       "      <th>0</th>\n",
       "      <td>370859</td>\n",
       "      <td>44142.0</td>\n",
       "      <td>Remain</td>\n",
       "      <td>3</td>\n",
       "      <td>31/08/2023 13:21</td>\n",
       "      <td>28.08</td>\n",
       "      <td>95496</td>\n",
       "      <td>Australia</td>\n",
       "      <td>No</td>\n",
       "      <td>Female</td>\n",
       "      <td>South</td>\n",
       "    </tr>\n",
       "    <tr>\n",
       "      <th>1</th>\n",
       "      <td>455672</td>\n",
       "      <td>37036.0</td>\n",
       "      <td>Officer</td>\n",
       "      <td>19</td>\n",
       "      <td>18/11/2023 21:10</td>\n",
       "      <td>38.73</td>\n",
       "      <td>56057</td>\n",
       "      <td>Australia</td>\n",
       "      <td>Yes</td>\n",
       "      <td>Female</td>\n",
       "      <td>South</td>\n",
       "    </tr>\n",
       "    <tr>\n",
       "      <th>2</th>\n",
       "      <td>824795</td>\n",
       "      <td>69973.0</td>\n",
       "      <td>Program</td>\n",
       "      <td>11</td>\n",
       "      <td>03/07/2023 06:52</td>\n",
       "      <td>20.50</td>\n",
       "      <td>55855</td>\n",
       "      <td>Australia</td>\n",
       "      <td>No</td>\n",
       "      <td>Female</td>\n",
       "      <td>East</td>\n",
       "    </tr>\n",
       "    <tr>\n",
       "      <th>3</th>\n",
       "      <td>490051</td>\n",
       "      <td>96135.0</td>\n",
       "      <td>Simple</td>\n",
       "      <td>10</td>\n",
       "      <td>06/12/2023 10:04</td>\n",
       "      <td>46.28</td>\n",
       "      <td>34631</td>\n",
       "      <td>Canada</td>\n",
       "      <td>Yes</td>\n",
       "      <td>Female</td>\n",
       "      <td>South</td>\n",
       "    </tr>\n",
       "    <tr>\n",
       "      <th>4</th>\n",
       "      <td>549040</td>\n",
       "      <td>24211.0</td>\n",
       "      <td>Particularly</td>\n",
       "      <td>10</td>\n",
       "      <td>23/02/2024 15:18</td>\n",
       "      <td>7.54</td>\n",
       "      <td>46774</td>\n",
       "      <td>United Kingdom</td>\n",
       "      <td>Yes</td>\n",
       "      <td>Female</td>\n",
       "      <td>West</td>\n",
       "    </tr>\n",
       "    <tr>\n",
       "      <th>...</th>\n",
       "      <td>...</td>\n",
       "      <td>...</td>\n",
       "      <td>...</td>\n",
       "      <td>...</td>\n",
       "      <td>...</td>\n",
       "      <td>...</td>\n",
       "      <td>...</td>\n",
       "      <td>...</td>\n",
       "      <td>...</td>\n",
       "      <td>...</td>\n",
       "      <td>...</td>\n",
       "    </tr>\n",
       "    <tr>\n",
       "      <th>10045</th>\n",
       "      <td>861140</td>\n",
       "      <td>20472.0</td>\n",
       "      <td>Current</td>\n",
       "      <td>12</td>\n",
       "      <td>03/11/2023 17:16</td>\n",
       "      <td>16.49</td>\n",
       "      <td>68916</td>\n",
       "      <td>France</td>\n",
       "      <td>Yes</td>\n",
       "      <td>Male</td>\n",
       "      <td>West</td>\n",
       "    </tr>\n",
       "    <tr>\n",
       "      <th>10046</th>\n",
       "      <td>667156</td>\n",
       "      <td>38392.0</td>\n",
       "      <td>All</td>\n",
       "      <td>2</td>\n",
       "      <td>31/12/2023 09:24</td>\n",
       "      <td>16.28</td>\n",
       "      <td>91991</td>\n",
       "      <td>United Kingdom</td>\n",
       "      <td>No</td>\n",
       "      <td>Male</td>\n",
       "      <td>East</td>\n",
       "    </tr>\n",
       "    <tr>\n",
       "      <th>10047</th>\n",
       "      <td>550005</td>\n",
       "      <td>82248.0</td>\n",
       "      <td>Though</td>\n",
       "      <td>6</td>\n",
       "      <td>27/07/2023 05:04</td>\n",
       "      <td>33.38</td>\n",
       "      <td>89766</td>\n",
       "      <td>United States</td>\n",
       "      <td>No</td>\n",
       "      <td>Male</td>\n",
       "      <td>West</td>\n",
       "    </tr>\n",
       "    <tr>\n",
       "      <th>10048</th>\n",
       "      <td>982069</td>\n",
       "      <td>23938.0</td>\n",
       "      <td>Lawyer</td>\n",
       "      <td>14</td>\n",
       "      <td>10/10/2023 01:46</td>\n",
       "      <td>47.46</td>\n",
       "      <td>87345</td>\n",
       "      <td>Germany</td>\n",
       "      <td>No</td>\n",
       "      <td>Female</td>\n",
       "      <td>West</td>\n",
       "    </tr>\n",
       "    <tr>\n",
       "      <th>10049</th>\n",
       "      <td>279299</td>\n",
       "      <td>80496.0</td>\n",
       "      <td>Church</td>\n",
       "      <td>1</td>\n",
       "      <td>29/02/2024 12:27</td>\n",
       "      <td>12.67</td>\n",
       "      <td>91752</td>\n",
       "      <td>United Kingdom</td>\n",
       "      <td>No</td>\n",
       "      <td>Male</td>\n",
       "      <td>West</td>\n",
       "    </tr>\n",
       "  </tbody>\n",
       "</table>\n",
       "<p>10050 rows × 11 columns</p>\n",
       "</div>"
      ],
      "text/plain": [
       "       InvoiceNo  StockCode   Description  Quantity       InvoiceDate  \\\n",
       "0         370859    44142.0        Remain         3  31/08/2023 13:21   \n",
       "1         455672    37036.0       Officer        19  18/11/2023 21:10   \n",
       "2         824795    69973.0       Program        11  03/07/2023 06:52   \n",
       "3         490051    96135.0        Simple        10  06/12/2023 10:04   \n",
       "4         549040    24211.0  Particularly        10  23/02/2024 15:18   \n",
       "...          ...        ...           ...       ...               ...   \n",
       "10045     861140    20472.0       Current        12  03/11/2023 17:16   \n",
       "10046     667156    38392.0           All         2  31/12/2023 09:24   \n",
       "10047     550005    82248.0        Though         6  27/07/2023 05:04   \n",
       "10048     982069    23938.0        Lawyer        14  10/10/2023 01:46   \n",
       "10049     279299    80496.0        Church         1  29/02/2024 12:27   \n",
       "\n",
       "       UnitPrice  CustomerID         Country IsPromotion     Sex Region  \n",
       "0          28.08       95496       Australia          No  Female  South  \n",
       "1          38.73       56057       Australia         Yes  Female  South  \n",
       "2          20.50       55855       Australia          No  Female   East  \n",
       "3          46.28       34631          Canada         Yes  Female  South  \n",
       "4           7.54       46774  United Kingdom         Yes  Female   West  \n",
       "...          ...         ...             ...         ...     ...    ...  \n",
       "10045      16.49       68916          France         Yes    Male   West  \n",
       "10046      16.28       91991  United Kingdom          No    Male   East  \n",
       "10047      33.38       89766   United States          No    Male   West  \n",
       "10048      47.46       87345         Germany          No  Female   West  \n",
       "10049      12.67       91752  United Kingdom          No    Male   West  \n",
       "\n",
       "[10050 rows x 11 columns]"
      ]
     },
     "execution_count": 2,
     "metadata": {},
     "output_type": "execute_result"
    }
   ],
   "source": [
    "# use pandas to import csv file\n",
    "df = pd.read_csv(\"OnlineRetail4.csv\")\n",
    "# too see max columns\n",
    "pd.set_option('display.max_columns',None)\n",
    "# print dataframe\n",
    "df"
   ]
  },
  {
   "cell_type": "code",
   "execution_count": 3,
   "metadata": {},
   "outputs": [
    {
     "name": "stdout",
     "output_type": "stream",
     "text": [
      "<class 'pandas.core.frame.DataFrame'>\n",
      "RangeIndex: 10050 entries, 0 to 10049\n",
      "Data columns (total 11 columns):\n",
      " #   Column       Non-Null Count  Dtype  \n",
      "---  ------       --------------  -----  \n",
      " 0   InvoiceNo    10050 non-null  int64  \n",
      " 1   StockCode    9949 non-null   float64\n",
      " 2   Description  10038 non-null  object \n",
      " 3   Quantity     10050 non-null  int64  \n",
      " 4   InvoiceDate  10050 non-null  object \n",
      " 5   UnitPrice    10050 non-null  float64\n",
      " 6   CustomerID   10050 non-null  int64  \n",
      " 7   Country      10050 non-null  object \n",
      " 8   IsPromotion  10050 non-null  object \n",
      " 9   Sex          10050 non-null  object \n",
      " 10  Region       10050 non-null  object \n",
      "dtypes: float64(2), int64(3), object(6)\n",
      "memory usage: 863.8+ KB\n"
     ]
    }
   ],
   "source": [
    "df.info()"
   ]
  },
  {
   "cell_type": "code",
   "execution_count": 4,
   "metadata": {},
   "outputs": [
    {
     "name": "stdout",
     "output_type": "stream",
     "text": [
      "InvoiceNo        0\n",
      "StockCode      101\n",
      "Description     12\n",
      "Quantity         0\n",
      "InvoiceDate      0\n",
      "UnitPrice        0\n",
      "CustomerID       0\n",
      "Country          0\n",
      "IsPromotion      0\n",
      "Sex              0\n",
      "Region           0\n",
      "dtype: int64\n",
      "Missing values distribution: \n",
      "InvoiceNo      0.000000\n",
      "StockCode      0.010050\n",
      "Description    0.001194\n",
      "Quantity       0.000000\n",
      "InvoiceDate    0.000000\n",
      "UnitPrice      0.000000\n",
      "CustomerID     0.000000\n",
      "Country        0.000000\n",
      "IsPromotion    0.000000\n",
      "Sex            0.000000\n",
      "Region         0.000000\n",
      "dtype: float64\n"
     ]
    }
   ],
   "source": [
    "#New dataframe \n",
    "new_df = df\n",
    "#Checking for null values \n",
    "print(new_df.isnull().sum()) \n",
    "print(\"Missing values distribution: \")\n",
    "print(new_df.isnull().mean())"
   ]
  },
  {
   "cell_type": "code",
   "execution_count": 5,
   "metadata": {},
   "outputs": [
    {
     "name": "stdout",
     "output_type": "stream",
     "text": [
      "True\n"
     ]
    }
   ],
   "source": [
    "# #Checking for duplicates\n",
    "print(new_df.duplicated().any()) "
   ]
  },
  {
   "cell_type": "code",
   "execution_count": 6,
   "metadata": {},
   "outputs": [
    {
     "name": "stdout",
     "output_type": "stream",
     "text": [
      "0        False\n",
      "1        False\n",
      "2        False\n",
      "3        False\n",
      "4        False\n",
      "         ...  \n",
      "10045    False\n",
      "10046    False\n",
      "10047    False\n",
      "10048    False\n",
      "10049    False\n",
      "Length: 10050, dtype: bool\n",
      "(10050, 11)\n"
     ]
    }
   ],
   "source": [
    "print(new_df.duplicated())\n",
    "print(new_df.shape) "
   ]
  },
  {
   "cell_type": "code",
   "execution_count": 26,
   "metadata": {},
   "outputs": [
    {
     "name": "stdout",
     "output_type": "stream",
     "text": [
      "   InvoiceNo  StockCode   Description  Quantity       InvoiceDate  UnitPrice  \\\n",
      "0     370859    44142.0        Remain         3  31/08/2023 13:21      28.08   \n",
      "1     455672    37036.0       Officer        19  18/11/2023 21:10      38.73   \n",
      "2     824795    69973.0       Program        11  03/07/2023 06:52      20.50   \n",
      "3     490051    96135.0        Simple        10  06/12/2023 10:04      46.28   \n",
      "4     549040    24211.0  Particularly        10  23/02/2024 15:18       7.54   \n",
      "\n",
      "   CustomerID         Country IsPromotion Sex Region  \n",
      "0       95496       Australia          No   0      3  \n",
      "1       56057       Australia         Yes   0      3  \n",
      "2       55855       Australia          No   0      0  \n",
      "3       34631          Canada         Yes   0      3  \n",
      "4       46774  United Kingdom         Yes   0      1  \n"
     ]
    }
   ],
   "source": [
    "#Replacing string values with integer \n",
    "new_df[\"Sex\"] = new_df[\"Sex\"].replace({\"Male\":\"1\", \"Female\":\"0\"}) \n",
    "print(new_df.head())"
   ]
  },
  {
   "cell_type": "code",
   "execution_count": 27,
   "metadata": {},
   "outputs": [
    {
     "name": "stdout",
     "output_type": "stream",
     "text": [
      "[' 3' '0' '1' '2']\n"
     ]
    }
   ],
   "source": [
    "#Finding unique values in \"Region\" \n",
    "print(new_df[\"Region\"].unique()) "
   ]
  },
  {
   "cell_type": "code",
   "execution_count": 28,
   "metadata": {},
   "outputs": [
    {
     "name": "stdout",
     "output_type": "stream",
     "text": [
      "   InvoiceNo  StockCode   Description  Quantity       InvoiceDate  UnitPrice  \\\n",
      "0     370859    44142.0        Remain         3  31/08/2023 13:21      28.08   \n",
      "1     455672    37036.0       Officer        19  18/11/2023 21:10      38.73   \n",
      "2     824795    69973.0       Program        11  03/07/2023 06:52      20.50   \n",
      "3     490051    96135.0        Simple        10  06/12/2023 10:04      46.28   \n",
      "4     549040    24211.0  Particularly        10  23/02/2024 15:18       7.54   \n",
      "\n",
      "   CustomerID         Country IsPromotion Sex Region  \n",
      "0       95496       Australia          No   0      3  \n",
      "1       56057       Australia         Yes   0      3  \n",
      "2       55855       Australia          No   0      0  \n",
      "3       34631          Canada         Yes   0      3  \n",
      "4       46774  United Kingdom         Yes   0      1  \n"
     ]
    }
   ],
   "source": [
    "new_df['Region'] = new_df['Region'].replace({'East':'0', 'West':'1', 'North':'2', 'South':'3'})\n",
    "print(new_df.head())"
   ]
  },
  {
   "cell_type": "code",
   "execution_count": 29,
   "metadata": {},
   "outputs": [
    {
     "name": "stdout",
     "output_type": "stream",
     "text": [
      "(10050, 11)\n",
      "   InvoiceNo  StockCode   Description  Quantity       InvoiceDate  UnitPrice  \\\n",
      "0     370859    44142.0        Remain         3  31/08/2023 13:21      28.08   \n",
      "1     455672    37036.0       Officer        19  18/11/2023 21:10      38.73   \n",
      "2     824795    69973.0       Program        11  03/07/2023 06:52      20.50   \n",
      "3     490051    96135.0        Simple        10  06/12/2023 10:04      46.28   \n",
      "4     549040    24211.0  Particularly        10  23/02/2024 15:18       7.54   \n",
      "\n",
      "   CustomerID         Country IsPromotion Sex Region  \n",
      "0       95496       Australia          No   0      3  \n",
      "1       56057       Australia         Yes   0      3  \n",
      "2       55855       Australia          No   0      0  \n",
      "3       34631          Canada         Yes   0      3  \n",
      "4       46774  United Kingdom         Yes   0      1  \n"
     ]
    }
   ],
   "source": [
    "#Describing data after preprocessing \n",
    "print(new_df.shape) \n",
    "print(new_df.head())"
   ]
  },
  {
   "cell_type": "code",
   "execution_count": 30,
   "metadata": {},
   "outputs": [
    {
     "data": {
      "image/png": "[encoded data removed]",
      "text/plain": [
       "<Figure size 600x600 with 1 Axes>"
      ]
     },
     "metadata": {},
     "output_type": "display_data"
    }
   ],
   "source": [
    "new_df.IsPromotion.value_counts()\n",
    "plt.figure(figsize=(6,6))\n",
    "sns.countplot(x='IsPromotion', data=new_df)\n",
    "plt.title('Promotion')\n",
    "plt.show()"
   ]
  },
  {
   "cell_type": "code",
   "execution_count": 31,
   "metadata": {},
   "outputs": [],
   "source": [
    "from sklearn.datasets import make_classification\n",
    "X, y = make_classification(n_classes=2, class_sep=0.5,\n",
    "weights=[0.05, 0.95], n_informative=2, n_redundant=0, flip_y=0,\n",
    "n_features=2, n_clusters_per_class=1, n_samples=1000, random_state=10)"
   ]
  },
  {
   "cell_type": "code",
   "execution_count": 32,
   "metadata": {},
   "outputs": [],
   "source": [
    "from sklearn.model_selection import train_test_split\n",
    "  \n",
    "# split into 70:30 ration\n",
    "X_train, X_test, y_train, y_test = train_test_split(X, y, test_size = 0.3, random_state = 0)"
   ]
  },
  {
   "cell_type": "code",
   "execution_count": 33,
   "metadata": {},
   "outputs": [],
   "source": [
    "from imblearn.over_sampling import SMOTE\n",
    "sm = SMOTE(random_state=42)\n",
    "X_res, y_res = sm.fit_resample(X_train, y_train)"
   ]
  },
  {
   "cell_type": "code",
   "execution_count": 34,
   "metadata": {},
   "outputs": [
    {
     "name": "stdout",
     "output_type": "stream",
     "text": [
      "Number transactions X_train dataset:  (700, 2)\n",
      "Number transactions y_train dataset:  (700,)\n",
      "Number transactions X_test dataset:  (300, 2)\n",
      "Number transactions y_test dataset:  (300,)\n"
     ]
    }
   ],
   "source": [
    "# describes info about train and test set\n",
    "print(\"Number transactions X_train dataset: \", X_train.shape)\n",
    "print(\"Number transactions y_train dataset: \", y_train.shape)\n",
    "print(\"Number transactions X_test dataset: \", X_test.shape)\n",
    "print(\"Number transactions y_test dataset: \", y_test.shape)"
   ]
  }
 ],
 "metadata": {
  "kernelspec": {
   "display_name": "Python 3",
   "language": "python",
   "name": "python3"
  },
  "language_info": {
   "codemirror_mode": {
    "name": "ipython",
    "version": 3
   },
   "file_extension": ".py",
   "mimetype": "text/x-python",
   "name": "python",
   "nbconvert_exporter": "python",
   "pygments_lexer": "ipython3",
   "version": "3.12.1"
  }
 },
 "nbformat": 4,
 "nbformat_minor": 2
}
